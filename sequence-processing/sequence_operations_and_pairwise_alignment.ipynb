{
 "cells": [
  {
   "cell_type": "markdown",
   "metadata": {},
   "source": [
    "### Sequence Operations"
   ]
  },
  {
   "cell_type": "code",
   "execution_count": 1,
   "metadata": {},
   "outputs": [
    {
     "name": "stdout",
     "output_type": "stream",
     "text": [
      "GTGGCTGATCGTATC\n",
      "CACCGACTAGCATAG\n",
      "GATACGATCAGCCAC\n",
      "GUGGCUGAUCGUAUC\n",
      "VADRI\n"
     ]
    }
   ],
   "source": [
    "from Bio.Seq import Seq\n",
    "gene  = Seq(\"GTGGCTGATCGTATC\")\n",
    "print(gene)\n",
    "print(gene.complement())\n",
    "print(gene.reverse_complement())\n",
    "print(gene.transcribe())\n",
    "print(gene.translate())"
   ]
  },
  {
   "cell_type": "code",
   "execution_count": 2,
   "metadata": {},
   "outputs": [
    {
     "name": "stdout",
     "output_type": "stream",
     "text": [
      "NP_000199.2\n",
      "Seq('MATGGRRGAAAAPLLVAVAALLLGAAGHLYPGEVCPGMDIRNNLTRLHELENCS...NPS')\n",
      "1382\n",
      "NC_007127.7:c4317955-4287539\n",
      "Seq('AGACCTGCAGCGCTGAGCGGCAGAAGCGCTGATAGACTGAGCGAGCGCAAAAGT...GTT')\n",
      "30417\n",
      "sp|P63072|UBD_MOUSE\n",
      "Seq('MASVRTCVVRSDQWRLMTFETTENDKVKKINEHIRSQTKVSVQDQILLLDSKIL...TGG')\n",
      "162\n",
      "sp|P49912|OPSD_RABIT\n",
      "Seq('MNGTEGPDFYIPMSNQTGVVRSPFEYPQYYLAEPWQFSMLAAYMFLLIVLGFPI...APA')\n",
      "348\n"
     ]
    }
   ],
   "source": [
    "#gene or protein sequences can be stored in FASTA file format. It begins with a > and one line identifier. \n",
    "#FASTA  can contain more than 1 record.\n",
    "from Bio import SeqIO\n",
    "for sequence in SeqIO.parse(\"protein.fasta\", \"fasta\"): \n",
    "    print(sequence.id)\n",
    "    print(repr(sequence.seq))\n",
    "    print(len(sequence))"
   ]
  },
  {
   "cell_type": "code",
   "execution_count": 3,
   "metadata": {},
   "outputs": [
    {
     "name": "stdout",
     "output_type": "stream",
     "text": [
      "0.5333333333333333\n"
     ]
    }
   ],
   "source": [
    "#GC Content\n",
    "from Bio.SeqUtils import gc_fraction\n",
    "print(gc_fraction(gene))"
   ]
  },
  {
   "cell_type": "code",
   "execution_count": 9,
   "metadata": {},
   "outputs": [
    {
     "name": "stdout",
     "output_type": "stream",
     "text": [
      "GC_Frame: a:6 t:8 g:13 c:3\n",
      "Sequence: atgtagtgat ... tgagtgaggt, 30 nt, 53.33 %GC\n",
      "\n",
      "\n",
      "1/1\n",
      "  V  V  M  D  G  P  *  V  R\n",
      " C  S  D  G  W  P  V  S  E\n",
      "M  *  *  W  M  A  R  E  *  G\n",
      "atgtagtgatggatggcccgtgagtgaggt   53 %\n",
      "tacatcactacctaccgggcactcactcca\n",
      "Y  H  H  I  A  R  S  H  P\n",
      " H  L  S  P  H  G  T  L  S  T\n",
      "  T  T  I  S  P  G  H  T  L\n",
      "\n",
      "\n"
     ]
    },
    {
     "name": "stderr",
     "output_type": "stream",
     "text": [
      "c:\\Users\\efeka\\AppData\\Local\\Programs\\Python\\Python311\\Lib\\site-packages\\Bio\\SeqUtils\\__init__.py:144: BiopythonDeprecationWarning: GC is deprecated; please use gc_fraction instead.\n",
      "  warnings.warn(\n"
     ]
    }
   ],
   "source": [
    "#Six frame translations\n",
    "from Bio.SeqUtils import six_frame_translations\n",
    "print(six_frame_translations(\"ATGTAGTGATGGATGGCCCGTGAGTGAGGT\"))"
   ]
  },
  {
   "cell_type": "code",
   "execution_count": 5,
   "metadata": {},
   "outputs": [
    {
     "name": "stdout",
     "output_type": "stream",
     "text": [
      "MetValCysTyrGlyHisTrpTrpMetCysValHis\n"
     ]
    }
   ],
   "source": [
    "#Aminoacid - 1 letter code to 3 letter code\n",
    "from Bio.SeqUtils import seq3\n",
    "sequence = \"MVCYGHWWMCVH\"\n",
    "print(seq3(sequence))"
   ]
  },
  {
   "cell_type": "markdown",
   "metadata": {},
   "source": [
    "### Pairwise Sequence Alignment"
   ]
  },
  {
   "cell_type": "code",
   "execution_count": 6,
   "metadata": {},
   "outputs": [
    {
     "name": "stdout",
     "output_type": "stream",
     "text": [
      " The score of the alignment is 6.0\n",
      "target            0 GAACT 5\n",
      "                  0 ||--| 5\n",
      "query             0 GA--T 3\n",
      "\n",
      "target            0 GAACT 5\n",
      "                  0 |-|-| 5\n",
      "query             0 G-A-T 3\n",
      "\n"
     ]
    }
   ],
   "source": [
    "#GLOBAL ALIGNMENT\n",
    "#Align module contains many different functions and methods to perform both local and global alignments.\n",
    "from Bio import Align\n",
    "\n",
    "#Create an object from the Align module. Set the match score. For every match, the score will increment.\n",
    "#We can put that object into a variable.\n",
    "\n",
    "aligner = Align.PairwiseAligner(match_score = 2.0)\n",
    "\n",
    "seq1 = \"GAACT\"\n",
    "seq2 = \"GAT\"\n",
    "\n",
    "#Get score using score method\n",
    "score = aligner.score(seq1, seq2)\n",
    "print(f\" The score of the alignment is {score}\")\n",
    "\n",
    "#This is default by global aligment so it will give you all the optimal global possibilities.\n",
    "alignments = aligner.align(seq1, seq2)\n",
    "for alignment in alignments:\n",
    "    print(alignment)"
   ]
  },
  {
   "cell_type": "code",
   "execution_count": 7,
   "metadata": {},
   "outputs": [
    {
     "name": "stdout",
     "output_type": "stream",
     "text": [
      "The local alignment score is 8.0\n",
      "target            1 TTAAT 6\n",
      "                  0 |-||| 5\n",
      "query             0 T-AAT 4\n",
      "\n",
      "target            2 TAAT 6\n",
      "                  0 |||| 4\n",
      "query             0 TAAT 4\n",
      "\n"
     ]
    }
   ],
   "source": [
    "#LOCAL ALIGNMENT\n",
    "aligner.mode = \"local\"\n",
    "\n",
    "seq3 = \"ATTAATG\"\n",
    "seq4 = \"TAAT\"\n",
    "\n",
    "localscore = aligner.score(seq3,seq4)\n",
    "\n",
    "print(f\"The local alignment score is {localscore}\")\n",
    "\n",
    "alignment_local = aligner.align(seq3, seq4)\n",
    "\n",
    "for alignment in alignment_local:\n",
    "    print(alignment)"
   ]
  }
 ],
 "metadata": {
  "kernelspec": {
   "display_name": "Python 3",
   "language": "python",
   "name": "python3"
  },
  "language_info": {
   "codemirror_mode": {
    "name": "ipython",
    "version": 3
   },
   "file_extension": ".py",
   "mimetype": "text/x-python",
   "name": "python",
   "nbconvert_exporter": "python",
   "pygments_lexer": "ipython3",
   "version": "3.11.4"
  }
 },
 "nbformat": 4,
 "nbformat_minor": 2
}
